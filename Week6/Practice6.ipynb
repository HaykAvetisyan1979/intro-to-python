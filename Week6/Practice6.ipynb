{
 "cells": [
  {
   "cell_type": "markdown",
   "metadata": {},
   "source": [
    "# Classes"
   ]
  },
  {
   "cell_type": "markdown",
   "metadata": {},
   "source": [
    "# Problem1"
   ]
  },
  {
   "cell_type": "code",
   "execution_count": 8,
   "metadata": {},
   "outputs": [],
   "source": [
    "class Circle:\n",
    "    def __init__(self, radius, color):\n",
    "        self.R = radius\n",
    "        self.color = color\n",
    "        \n",
    "    def getDesc(self):\n",
    "        print(\"A %s circle with radius %0.2f\" % (self.color, self.R)"
   ]
  },
  {
   "cell_type": "code",
   "execution_count": 11,
   "metadata": {},
   "outputs": [
    {
     "name": "stdout",
     "output_type": "stream",
     "text": [
      "A red circle with radius 5.00\n",
      "A green circle with radius 10.00\n"
     ]
    }
   ],
   "source": [
    "circle1 = Circle(5,\"red\")\n",
    "circle1.getDesc()\n",
    "circle2 = Circle(10, \"green\")\n",
    "circle2.getDesc()"
   ]
  },
  {
   "cell_type": "markdown",
   "metadata": {},
   "source": [
    "# Problem 2"
   ]
  },
  {
   "cell_type": "code",
   "execution_count": 14,
   "metadata": {},
   "outputs": [],
   "source": [
    "class UpperStrings:\n",
    "    def __init__(self, mystring):\n",
    "        self.my_str = mystring\n",
    "        \n",
    "    def get_String(self):\n",
    "        return self.my_str\n",
    "    \n",
    "    def print_String(self):\n",
    "        print(self.my_str.upper())"
   ]
  },
  {
   "cell_type": "code",
   "execution_count": 17,
   "metadata": {
    "scrolled": true
   },
   "outputs": [
    {
     "name": "stdout",
     "output_type": "stream",
     "text": [
      "mystring\n",
      "MYSTRING\n"
     ]
    }
   ],
   "source": [
    "c = UpperStrings(\"mystring\")\n",
    "print(c.get_String())\n",
    "c.print_String()"
   ]
  },
  {
   "cell_type": "markdown",
   "metadata": {},
   "source": [
    "# Problem 3"
   ]
  },
  {
   "cell_type": "code",
   "execution_count": 26,
   "metadata": {},
   "outputs": [],
   "source": [
    "class Employee:\n",
    "    def __init__(self, name, lname, salary):\n",
    "        self.name = name\n",
    "        self.last_name = lname\n",
    "        self.__monthly_salary = salary\n",
    "        \n",
    "    def getFullName(self):\n",
    "        return self.name + \" \" + self.last_name\n",
    "    \n",
    "    def annualSalary(self):\n",
    "        if 12*self.__monthly_salary > 100:\n",
    "            return \"High\"\n",
    "        else:\n",
    "            return \"Low\"\n",
    "        "
   ]
  },
  {
   "cell_type": "code",
   "execution_count": 27,
   "metadata": {},
   "outputs": [
    {
     "name": "stdout",
     "output_type": "stream",
     "text": [
      "John Smith High\n",
      "Ann Smith Low\n"
     ]
    }
   ],
   "source": [
    "emp1 = Employee(\"John\", \"Smith\", 50)\n",
    "emp2 = Employee(\"Ann\", \"Smith\",8)\n",
    "print(emp1.getFullName(),emp1.annualSalary())\n",
    "print(emp2.getFullName(),emp2.annualSalary())"
   ]
  },
  {
   "cell_type": "markdown",
   "metadata": {},
   "source": [
    "# Problem 4 "
   ]
  },
  {
   "cell_type": "code",
   "execution_count": 36,
   "metadata": {},
   "outputs": [],
   "source": [
    "class Car:\n",
    "    def __init__(self, model, color, max_speed):\n",
    "        self.model = model\n",
    "        self.color = color\n",
    "        self.max_speed = max_speed\n",
    "        \n",
    "    def compareCar(self,car2):\n",
    "        if self.max_speed > car2.max_speed:\n",
    "            return self.model + \" is better than \" + car2.model\n",
    "        else:\n",
    "            return car2.model + \" is better than \" + self.model\n",
    "        "
   ]
  },
  {
   "cell_type": "code",
   "execution_count": 39,
   "metadata": {},
   "outputs": [
    {
     "name": "stdout",
     "output_type": "stream",
     "text": [
      "BMW is better than Nissan\n",
      "Ford Mustang is better than BMW\n"
     ]
    }
   ],
   "source": [
    "car1 = Car(\"BMW\", \"Black\",350)\n",
    "car2 = Car(\"Nissan\", \"Purple\", 110)\n",
    "car3 = Car(\"Ford Mustang\", \"Red\",400)\n",
    "print(car1.compareCar(car2))\n",
    "print(car1.compareCar(car3))"
   ]
  },
  {
   "cell_type": "markdown",
   "metadata": {},
   "source": [
    "# Problem 5"
   ]
  },
  {
   "cell_type": "code",
   "execution_count": 79,
   "metadata": {},
   "outputs": [],
   "source": [
    "class Police_car:\n",
    "    \n",
    "    tax_value = 0.2\n",
    "    \n",
    "    def __init__(self, owner, price, code):\n",
    "        self.owner = owner\n",
    "        self.price = price\n",
    "        self.__pass_code = code\n",
    "        \n",
    "    def tax(self):\n",
    "        return Police_car.tax_value * self.price\n",
    "      # return self.tax_value * self.price  # այս դեպքում, եթե օբյեկտի վրայից tax_value-ն փոխենք այդ օբյեկտի համար առանձին փոխվածը կկիրառվի\n",
    "    \n",
    "    def greeting(self):\n",
    "        if self.__pass_code == \"admin\":\n",
    "            print(\"Welcome to your car\", self.owner)\n",
    "        \n",
    "    def set_code(self, new_code):\n",
    "        self.__pass_code = new_code\n",
    "        \n",
    "    def get_code(self):\n",
    "        return self.__pass_code    "
   ]
  },
  {
   "cell_type": "code",
   "execution_count": 80,
   "metadata": {},
   "outputs": [
    {
     "name": "stdout",
     "output_type": "stream",
     "text": [
      "20000.0\n",
      "Your tax amount is: 20,000.0\n",
      "Welcome to your car John\n",
      "user\n"
     ]
    }
   ],
   "source": [
    "car1 = Police_car(\"John\", 100000,\"admin\")\n",
    "print(car1.tax())\n",
    "print(\"Your tax amount is:\", f'{car1.tax():,}')\n",
    "car1.greeting()\n",
    "car1.set_code(\"user\")\n",
    "print(car1.get_code())\n",
    "car1.greeting()\n",
    "#Police_car.tax_value = 0.3\n",
    "#print(\"Your tax amount is:\", f'{car1.tax():,}')"
   ]
  },
  {
   "cell_type": "markdown",
   "metadata": {},
   "source": [
    "# Assertions"
   ]
  },
  {
   "cell_type": "markdown",
   "metadata": {},
   "source": [
    "## Problem 1"
   ]
  },
  {
   "cell_type": "code",
   "execution_count": 84,
   "metadata": {},
   "outputs": [
    {
     "ename": "AssertionError",
     "evalue": "I won't wake you up today!",
     "output_type": "error",
     "traceback": [
      "\u001b[1;31m---------------------------------------------------------------------------\u001b[0m",
      "\u001b[1;31mAssertionError\u001b[0m                            Traceback (most recent call last)",
      "\u001b[1;32m<ipython-input-84-f23a159cd17a>\u001b[0m in \u001b[0;36m<module>\u001b[1;34m\u001b[0m\n\u001b[0;32m      2\u001b[0m     \u001b[1;32massert\u001b[0m \u001b[0mday\u001b[0m \u001b[1;33m!=\u001b[0m \u001b[1;34m\"Sunday\"\u001b[0m\u001b[1;33m,\u001b[0m \u001b[1;34m\"I won't wake you up today!\"\u001b[0m\u001b[1;33m\u001b[0m\u001b[1;33m\u001b[0m\u001b[0m\n\u001b[0;32m      3\u001b[0m \u001b[1;33m\u001b[0m\u001b[0m\n\u001b[1;32m----> 4\u001b[1;33m \u001b[0mx\u001b[0m \u001b[1;33m=\u001b[0m \u001b[0mAlarm\u001b[0m\u001b[1;33m(\u001b[0m\u001b[1;34m\"Sunday\"\u001b[0m\u001b[1;33m)\u001b[0m\u001b[1;33m\u001b[0m\u001b[1;33m\u001b[0m\u001b[0m\n\u001b[0m",
      "\u001b[1;32m<ipython-input-84-f23a159cd17a>\u001b[0m in \u001b[0;36mAlarm\u001b[1;34m(day)\u001b[0m\n\u001b[0;32m      1\u001b[0m \u001b[1;32mdef\u001b[0m \u001b[0mAlarm\u001b[0m\u001b[1;33m(\u001b[0m\u001b[0mday\u001b[0m\u001b[1;33m)\u001b[0m\u001b[1;33m:\u001b[0m\u001b[1;33m\u001b[0m\u001b[1;33m\u001b[0m\u001b[0m\n\u001b[1;32m----> 2\u001b[1;33m     \u001b[1;32massert\u001b[0m \u001b[0mday\u001b[0m \u001b[1;33m!=\u001b[0m \u001b[1;34m\"Sunday\"\u001b[0m\u001b[1;33m,\u001b[0m \u001b[1;34m\"I won't wake you up today!\"\u001b[0m\u001b[1;33m\u001b[0m\u001b[1;33m\u001b[0m\u001b[0m\n\u001b[0m\u001b[0;32m      3\u001b[0m \u001b[1;33m\u001b[0m\u001b[0m\n\u001b[0;32m      4\u001b[0m \u001b[0mx\u001b[0m \u001b[1;33m=\u001b[0m \u001b[0mAlarm\u001b[0m\u001b[1;33m(\u001b[0m\u001b[1;34m\"Sunday\"\u001b[0m\u001b[1;33m)\u001b[0m\u001b[1;33m\u001b[0m\u001b[1;33m\u001b[0m\u001b[0m\n",
      "\u001b[1;31mAssertionError\u001b[0m: I won't wake you up today!"
     ]
    }
   ],
   "source": [
    "def Alarm(day):\n",
    "    assert day != \"Sunday\", \"I won't wake you up today!\"\n",
    "    \n",
    "x = Alarm(\"Sunday\")\n"
   ]
  },
  {
   "cell_type": "markdown",
   "metadata": {},
   "source": [
    "# Problem 2"
   ]
  },
  {
   "cell_type": "code",
   "execution_count": 95,
   "metadata": {},
   "outputs": [
    {
     "ename": "AssertionError",
     "evalue": "Arguments of type int required",
     "output_type": "error",
     "traceback": [
      "\u001b[1;31m---------------------------------------------------------------------------\u001b[0m",
      "\u001b[1;31mAssertionError\u001b[0m                            Traceback (most recent call last)",
      "\u001b[1;32m<ipython-input-95-433ef13b5750>\u001b[0m in \u001b[0;36m<module>\u001b[1;34m\u001b[0m\n\u001b[0;32m      3\u001b[0m     \u001b[1;32mreturn\u001b[0m \u001b[0mx\u001b[0m\u001b[1;33m+\u001b[0m\u001b[0my\u001b[0m\u001b[1;33m\u001b[0m\u001b[1;33m\u001b[0m\u001b[0m\n\u001b[0;32m      4\u001b[0m \u001b[1;33m\u001b[0m\u001b[0m\n\u001b[1;32m----> 5\u001b[1;33m \u001b[0msum\u001b[0m\u001b[1;33m(\u001b[0m\u001b[1;32mTrue\u001b[0m\u001b[1;33m,\u001b[0m\u001b[1;36m3\u001b[0m\u001b[1;33m)\u001b[0m\u001b[1;33m\u001b[0m\u001b[1;33m\u001b[0m\u001b[0m\n\u001b[0m",
      "\u001b[1;32m<ipython-input-95-433ef13b5750>\u001b[0m in \u001b[0;36msum\u001b[1;34m(x, y)\u001b[0m\n\u001b[0;32m      1\u001b[0m \u001b[1;32mdef\u001b[0m \u001b[0msum\u001b[0m\u001b[1;33m(\u001b[0m\u001b[0mx\u001b[0m\u001b[1;33m,\u001b[0m\u001b[0my\u001b[0m\u001b[1;33m)\u001b[0m\u001b[1;33m:\u001b[0m\u001b[1;33m\u001b[0m\u001b[1;33m\u001b[0m\u001b[0m\n\u001b[1;32m----> 2\u001b[1;33m     \u001b[1;32massert\u001b[0m \u001b[0mtype\u001b[0m\u001b[1;33m(\u001b[0m\u001b[0mx\u001b[0m\u001b[1;33m)\u001b[0m\u001b[1;33m==\u001b[0m\u001b[0mint\u001b[0m \u001b[1;32mand\u001b[0m \u001b[0mtype\u001b[0m\u001b[1;33m(\u001b[0m\u001b[0my\u001b[0m\u001b[1;33m)\u001b[0m\u001b[1;33m==\u001b[0m\u001b[0mint\u001b[0m\u001b[1;33m,\u001b[0m \u001b[1;34m\"Arguments of type int required\"\u001b[0m\u001b[1;33m\u001b[0m\u001b[1;33m\u001b[0m\u001b[0m\n\u001b[0m\u001b[0;32m      3\u001b[0m     \u001b[1;32mreturn\u001b[0m \u001b[0mx\u001b[0m\u001b[1;33m+\u001b[0m\u001b[0my\u001b[0m\u001b[1;33m\u001b[0m\u001b[1;33m\u001b[0m\u001b[0m\n\u001b[0;32m      4\u001b[0m \u001b[1;33m\u001b[0m\u001b[0m\n\u001b[0;32m      5\u001b[0m \u001b[0msum\u001b[0m\u001b[1;33m(\u001b[0m\u001b[1;32mTrue\u001b[0m\u001b[1;33m,\u001b[0m\u001b[1;36m3\u001b[0m\u001b[1;33m)\u001b[0m\u001b[1;33m\u001b[0m\u001b[1;33m\u001b[0m\u001b[0m\n",
      "\u001b[1;31mAssertionError\u001b[0m: Arguments of type int required"
     ]
    }
   ],
   "source": [
    "def sum(x,y):\n",
    "    assert type(x)==int and type(y)==int, \"Arguments of type int required\"\n",
    "    #assert isinstance(x,int) and isinstance(y,int), \"Arguments of type int required\"  \n",
    "    #այս դեպքում isinstance(x,int)-ը \"True\"-ի համար չի աշխատում\n",
    "    return x+y\n",
    "\n",
    "sum(True,3)"
   ]
  },
  {
   "cell_type": "markdown",
   "metadata": {},
   "source": [
    "# Exceptions"
   ]
  },
  {
   "cell_type": "markdown",
   "metadata": {},
   "source": [
    "# Problem1"
   ]
  },
  {
   "cell_type": "code",
   "execution_count": 101,
   "metadata": {},
   "outputs": [
    {
     "name": "stdout",
     "output_type": "stream",
     "text": [
      "division by zero\n"
     ]
    }
   ],
   "source": [
    "def div(x,y):\n",
    "    try:\n",
    "        return x/y\n",
    "    except Exception as e:\n",
    "        print(e)\n",
    "        \n",
    "div(5,0)"
   ]
  },
  {
   "cell_type": "markdown",
   "metadata": {},
   "source": [
    "# Problem 2"
   ]
  },
  {
   "cell_type": "code",
   "execution_count": 113,
   "metadata": {},
   "outputs": [
    {
     "name": "stdout",
     "output_type": "stream",
     "text": [
      "division by zero\n"
     ]
    }
   ],
   "source": [
    "def div(x,y):\n",
    "    try:\n",
    "        return x/y\n",
    "    except ZeroDivisionError as e:\n",
    "        print(e)\n",
    "        \n",
    "div(5,0)"
   ]
  },
  {
   "cell_type": "markdown",
   "metadata": {},
   "source": [
    "# Problem 3"
   ]
  },
  {
   "cell_type": "code",
   "execution_count": 117,
   "metadata": {},
   "outputs": [
    {
     "name": "stdout",
     "output_type": "stream",
     "text": [
      "The entry is: a\n",
      "Oops! unsupported operand type(s) for /: 'int' and 'str'\n",
      "The entry is: 0\n",
      "Oops! division by zero\n",
      "The entry is: 2\n",
      "The reciprocal of the 2 is 0.5\n"
     ]
    }
   ],
   "source": [
    "lst = ['a', 0, 2]\n",
    "for x in lst:\n",
    "    try:\n",
    "        print(\"The entry is:\", x)\n",
    "        print(\"The reciprocal of the\", x,\"is\", 1/x)\n",
    "    except Exception as e:\n",
    "        print(\"Oops!\", e)"
   ]
  },
  {
   "cell_type": "markdown",
   "metadata": {},
   "source": [
    "# Problem 4"
   ]
  },
  {
   "cell_type": "code",
   "execution_count": 122,
   "metadata": {},
   "outputs": [
    {
     "name": "stdout",
     "output_type": "stream",
     "text": [
      "Input your name:Rambo\n",
      "Rambo is an invalid username\n"
     ]
    }
   ],
   "source": [
    "username = input(\"Input your name:\")\n",
    "try:\n",
    "    if username == \"Rambo\":\n",
    "        raise Exception\n",
    "except Exception:\n",
    "    print(\"Rambo is an invalid username\")\n",
    "else:\n",
    "    print(\"Welcome\", username)"
   ]
  }
 ],
 "metadata": {
  "kernelspec": {
   "display_name": "Python 3",
   "language": "python",
   "name": "python3"
  },
  "language_info": {
   "codemirror_mode": {
    "name": "ipython",
    "version": 3
   },
   "file_extension": ".py",
   "mimetype": "text/x-python",
   "name": "python",
   "nbconvert_exporter": "python",
   "pygments_lexer": "ipython3",
   "version": "3.7.4"
  }
 },
 "nbformat": 4,
 "nbformat_minor": 2
}
