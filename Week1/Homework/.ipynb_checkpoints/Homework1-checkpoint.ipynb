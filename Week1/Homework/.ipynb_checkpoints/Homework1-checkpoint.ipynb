{
 "cells": [
  {
   "cell_type": "markdown",
   "metadata": {},
   "source": [
    "# Problem 1"
   ]
  },
  {
   "cell_type": "code",
   "execution_count": 3,
   "metadata": {},
   "outputs": [
    {
     "name": "stdout",
     "output_type": "stream",
     "text": [
      "False\n",
      "True\n",
      "False\n",
      "False\n",
      "flour- 175\n",
      "butter- 175\n",
      "sugar- 100g\n",
      "eggs- 2\n",
      "cocoa_powder- 1ts\n",
      "baking_powder- 0.5\n"
     ]
    }
   ],
   "source": [
    "project = \"cake\"\n",
    "difficulty = 5\n",
    "ingredients = [\"flour\",\"butter\",\"sugar\",\"eggs\",\"cocoa powder\",\"baking powder\"]\n",
    "print(\"apples\" in ingredients)\n",
    "print(\"butter\" in ingredients)\n",
    "print((\"apples\" in ingredients) or (\"margarine\" in ingredients))\n",
    "print((\"eggs\" in ingredients) and (\"margarine\" in ingredients))\n",
    "\n",
    "flour = 175\n",
    "butter = 175\n",
    "sugar = \"100g\"\n",
    "eggs = 2\n",
    "cocoa_powder = \"1ts\"\n",
    "baking_powder = 0.5\n",
    "print(\"flour-\",flour)\n",
    "print(\"butter-\",butter)\n",
    "print(\"sugar-\",sugar)\n",
    "print(\"eggs-\",eggs)\n",
    "print(\"cocoa_powder-\",cocoa_powder)\n",
    "print(\"baking_powder-\",baking_powder)"
   ]
  },
  {
   "cell_type": "markdown",
   "metadata": {},
   "source": [
    "# Problem 3"
   ]
  },
  {
   "cell_type": "code",
   "execution_count": 4,
   "metadata": {},
   "outputs": [
    {
     "name": "stdout",
     "output_type": "stream",
     "text": [
      "result1 =  1003.0\n",
      "result2 =  852\n"
     ]
    }
   ],
   "source": [
    "a = 15; b = 8; c = 2\n",
    "result1 = 5*a**2 - a*b + (a%2) -a/5\n",
    "result2 = b**3 + 3*a*b -10*c\n",
    "print(\"result1 = \", result1)\n",
    "print(\"result2 = \", result2)\n"
   ]
  },
  {
   "cell_type": "markdown",
   "metadata": {},
   "source": [
    "# Problem 4"
   ]
  },
  {
   "cell_type": "code",
   "execution_count": 5,
   "metadata": {},
   "outputs": [
    {
     "name": "stdout",
     "output_type": "stream",
     "text": [
      "Input the number: 12\n",
      "12  is Even\n"
     ]
    }
   ],
   "source": [
    "number = int(input(\"Input the number: \"))\n",
    "\n",
    "if number%2 == 0:\n",
    "    print(number, \" is Even\")\n",
    "else:\n",
    "    print(number, \" is odd\")\n",
    "    \n",
    "\n",
    "    "
   ]
  },
  {
   "cell_type": "code",
   "execution_count": 2,
   "metadata": {},
   "outputs": [
    {
     "name": "stdout",
     "output_type": "stream",
     "text": [
      "Input the number: a\n",
      "Error\n",
      "Input the number: s\n",
      "Error\n",
      "Input the number: d\n",
      "Error\n",
      "Input the number: 12\n",
      "12  is Even\n"
     ]
    }
   ],
   "source": [
    "cont=True\n",
    "\n",
    "while cont == True:\n",
    "    try: \n",
    "        number = int(input(\"Input the number: \"))\n",
    "\n",
    "        if number%2 == 0:\n",
    "            print(number, \" is Even\")\n",
    "        else:\n",
    "            print(number, \" is odd\")\n",
    "        break\n",
    "    except:\n",
    "        print(\"Error\")"
   ]
  }
 ],
 "metadata": {
  "kernelspec": {
   "display_name": "Python 3",
   "language": "python",
   "name": "python3"
  },
  "language_info": {
   "codemirror_mode": {
    "name": "ipython",
    "version": 3
   },
   "file_extension": ".py",
   "mimetype": "text/x-python",
   "name": "python",
   "nbconvert_exporter": "python",
   "pygments_lexer": "ipython3",
   "version": "3.7.4"
  }
 },
 "nbformat": 4,
 "nbformat_minor": 2
}
