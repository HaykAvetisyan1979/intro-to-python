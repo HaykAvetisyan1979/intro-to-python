{
 "cells": [
  {
   "cell_type": "markdown",
   "metadata": {},
   "source": [
    "# Problem 2"
   ]
  },
  {
   "cell_type": "code",
   "execution_count": 1,
   "metadata": {},
   "outputs": [
    {
     "name": "stdout",
     "output_type": "stream",
     "text": [
      "course:  Intro to Python\n",
      "student:  Hayk Avetisyan\n",
      "nickname:  Haykave\n",
      "grade:  100\n",
      "python_expert:  True\n"
     ]
    }
   ],
   "source": [
    "course = \"Intro to Python\"\n",
    "student = \"Hayk Avetisyan\"\n",
    "nickname = \"Haykave\"\n",
    "grade = 100\n",
    "python_expert = True\n",
    "print(\"course: \", course)\n",
    "print(\"student: \", student)\n",
    "print(\"nickname: \", nickname)\n",
    "print(\"grade: \", grade)\n",
    "print(\"python_expert: \", python_expert)"
   ]
  },
  {
   "cell_type": "markdown",
   "metadata": {},
   "source": [
    "# Problem 3"
   ]
  },
  {
   "cell_type": "code",
   "execution_count": 2,
   "metadata": {},
   "outputs": [
    {
     "name": "stdout",
     "output_type": "stream",
     "text": [
      "course:  Intro to Python\n",
      "student:  Hayk Avetisyan\n",
      "nickname:  Haykave\n",
      "grade:  100\n",
      "python_expert:  True\n"
     ]
    }
   ],
   "source": [
    "run Problem2.py"
   ]
  },
  {
   "cell_type": "markdown",
   "metadata": {},
   "source": [
    "# Problem 4"
   ]
  },
  {
   "cell_type": "code",
   "execution_count": 3,
   "metadata": {},
   "outputs": [
    {
     "name": "stdout",
     "output_type": "stream",
     "text": [
      "The hypotnuse of the triangle ABC =  5.0\n"
     ]
    }
   ],
   "source": [
    "ab = 3\n",
    "ac = 4\n",
    "bc = (ab**2 + ac**2)**0.5\n",
    "print(\"The hypotnuse of the triangle ABC = \", bc)"
   ]
  },
  {
   "cell_type": "code",
   "execution_count": 4,
   "metadata": {},
   "outputs": [
    {
     "name": "stdout",
     "output_type": "stream",
     "text": [
      "Input the value for AB: 3\n",
      "Input the value for AC: 4\n",
      "The hypotnuse of the triangle ABC =  5.0\n"
     ]
    }
   ],
   "source": [
    "ab = int(input(\"Input the value for AB: \"))\n",
    "ac = int(input(\"Input the value for AC: \"))\n",
    "print (\"The hypotnuse of the triangle ABC = \", bc)\n"
   ]
  }
 ],
 "metadata": {
  "kernelspec": {
   "display_name": "Python 3",
   "language": "python",
   "name": "python3"
  },
  "language_info": {
   "codemirror_mode": {
    "name": "ipython",
    "version": 3
   },
   "file_extension": ".py",
   "mimetype": "text/x-python",
   "name": "python",
   "nbconvert_exporter": "python",
   "pygments_lexer": "ipython3",
   "version": "3.7.4"
  }
 },
 "nbformat": 4,
 "nbformat_minor": 2
}
