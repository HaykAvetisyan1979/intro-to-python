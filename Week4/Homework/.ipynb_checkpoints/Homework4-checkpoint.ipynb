{
 "cells": [
  {
   "cell_type": "markdown",
   "metadata": {},
   "source": [
    "# problem 1\n"
   ]
  },
  {
   "cell_type": "code",
   "execution_count": 6,
   "metadata": {},
   "outputs": [
    {
     "name": "stdout",
     "output_type": "stream",
     "text": [
      "How many shes you want to buy?: 11\n",
      "You get a discount\n"
     ]
    }
   ],
   "source": [
    "n_shoes = int(input(\"How many shes you want to buy?: \"))\n",
    "\n",
    "if n_shoes*100 >1000:\n",
    "    print(\"You get a discount\")\n",
    "else:\n",
    "    print(\"You don't get a discount\")"
   ]
  },
  {
   "cell_type": "markdown",
   "metadata": {},
   "source": [
    "# problem 2"
   ]
  },
  {
   "cell_type": "code",
   "execution_count": 1,
   "metadata": {},
   "outputs": [
    {
     "name": "stdout",
     "output_type": "stream",
     "text": [
      "Good job\n"
     ]
    }
   ],
   "source": [
    "d = {\"name\":\"Armen\", \"age\":15,\"grade\":[10, 8, 8, 4, 6, 7]}\n",
    "if sum(d[\"grade\"])/len(d[\"grade\"])>7:\n",
    "    print(\"Good job\")\n",
    "else:\n",
    "    print(\"You need to work more\")\n"
   ]
  },
  {
   "cell_type": "markdown",
   "metadata": {},
   "source": [
    "# problem 3"
   ]
  },
  {
   "cell_type": "code",
   "execution_count": 11,
   "metadata": {},
   "outputs": [
    {
     "name": "stdout",
     "output_type": "stream",
     "text": [
      "1\n",
      "3\n",
      "5\n",
      "7\n",
      "9\n"
     ]
    }
   ],
   "source": [
    "for i in range(11):\n",
    "    if i%2==0:\n",
    "        continue\n",
    "    else:\n",
    "        print(i)"
   ]
  },
  {
   "cell_type": "markdown",
   "metadata": {},
   "source": [
    "# problem 4"
   ]
  },
  {
   "cell_type": "code",
   "execution_count": 13,
   "metadata": {},
   "outputs": [
    {
     "name": "stdout",
     "output_type": "stream",
     "text": [
      "1\n",
      "3\n",
      "5\n",
      "7\n",
      "9\n",
      "11\n"
     ]
    }
   ],
   "source": [
    "list1 = [1, 3, 5, 7, 9, 11, 13, 15]\n",
    "list2 = [4, 6, 14, 11, 8, 16]\n",
    "\n",
    "for x in list1:\n",
    "    print(x)\n",
    "    if x in list2:\n",
    "        break"
   ]
  },
  {
   "cell_type": "markdown",
   "metadata": {},
   "source": [
    "# problem 5"
   ]
  },
  {
   "cell_type": "code",
   "execution_count": 6,
   "metadata": {},
   "outputs": [
    {
     "name": "stdout",
     "output_type": "stream",
     "text": [
      "Input desert name: cookies\n",
      "Your desert will arrive in 10 minutes\n"
     ]
    }
   ],
   "source": [
    "menue = [\"ice cream\", \"chocolate\", \"apple crisp\", \"cookies\"]\n",
    "desert = input(\"Input desert name: \")\n",
    "\n",
    "while desert:\n",
    "    if desert in menue:\n",
    "        print(\"Your desert will arrive in 10 minutes\")\n",
    "        break\n",
    "    else:\n",
    "        print(\"Please choose another desert\")\n",
    "        desert = input(\"Input desert name: \")"
   ]
  },
  {
   "cell_type": "markdown",
   "metadata": {},
   "source": [
    "# problem 6"
   ]
  },
  {
   "cell_type": "code",
   "execution_count": 4,
   "metadata": {},
   "outputs": [
    {
     "name": "stdout",
     "output_type": "stream",
     "text": [
      "2\n"
     ]
    }
   ],
   "source": [
    "list2 = [1, 20, 3, 7, 9]\n",
    "print(len([x for x in list2 if x>=5 and x<=10]))\n"
   ]
  },
  {
   "cell_type": "markdown",
   "metadata": {},
   "source": [
    "# problem 7"
   ]
  },
  {
   "cell_type": "code",
   "execution_count": 14,
   "metadata": {},
   "outputs": [
    {
     "name": "stdout",
     "output_type": "stream",
     "text": [
      "[[10, 20, 40], [40, 50, 60], [70, 80, 90]]\n",
      "[[10, 20, 100], [40, 50, 100], [70, 80, 100]]\n"
     ]
    }
   ],
   "source": [
    "list4 = [[10, 20, 40], [40, 50, 60], [70, 80, 90]]\n",
    "list5 = [x[:len(x)-1]+[100] for x in list4]\n",
    "print(list4)\n",
    "print(list5)\n"
   ]
  }
 ],
 "metadata": {
  "kernelspec": {
   "display_name": "Python 3",
   "language": "python",
   "name": "python3"
  },
  "language_info": {
   "codemirror_mode": {
    "name": "ipython",
    "version": 3
   },
   "file_extension": ".py",
   "mimetype": "text/x-python",
   "name": "python",
   "nbconvert_exporter": "python",
   "pygments_lexer": "ipython3",
   "version": "3.7.4"
  }
 },
 "nbformat": 4,
 "nbformat_minor": 2
}
