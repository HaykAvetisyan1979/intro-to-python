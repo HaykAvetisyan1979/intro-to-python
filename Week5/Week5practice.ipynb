{
 "cells": [
  {
   "cell_type": "markdown",
   "metadata": {},
   "source": [
    "# problem1"
   ]
  },
  {
   "cell_type": "code",
   "execution_count": 1,
   "metadata": {},
   "outputs": [
    {
     "data": {
      "text/plain": [
       "2.0"
      ]
     },
     "execution_count": 1,
     "metadata": {},
     "output_type": "execute_result"
    }
   ],
   "source": [
    "def average(a,b,c):\n",
    "    return (a+b+c)/3\n",
    "\n",
    "average(1,2,3)"
   ]
  },
  {
   "cell_type": "markdown",
   "metadata": {},
   "source": [
    "# problem2"
   ]
  },
  {
   "cell_type": "code",
   "execution_count": 4,
   "metadata": {},
   "outputs": [
    {
     "data": {
      "text/plain": [
       "4"
      ]
     },
     "execution_count": 4,
     "metadata": {},
     "output_type": "execute_result"
    }
   ],
   "source": [
    "def evens_func(lst):\n",
    "    return len([x for x in lst if x%2==0])\n",
    "\n",
    "evens_func([1,2,3,4,5,6,8])"
   ]
  },
  {
   "cell_type": "markdown",
   "metadata": {},
   "source": [
    "# problem3"
   ]
  },
  {
   "cell_type": "code",
   "execution_count": 32,
   "metadata": {},
   "outputs": [
    {
     "data": {
      "text/plain": [
       "True"
      ]
     },
     "execution_count": 32,
     "metadata": {},
     "output_type": "execute_result"
    }
   ],
   "source": [
    "def pwd_keeper(password):\n",
    "    if isinstance(password,str):\n",
    "        if len(password)>=10:\n",
    "            nums=['0','1','2','3','4','5','6','7','8','9']\n",
    "            if len([x for x in password if x in nums])>=2:\n",
    "                return True\n",
    "            else:\n",
    "                return False\n",
    "        else:\n",
    "            return False\n",
    "    else:\n",
    "        return False\n",
    "pwd_keeper(\"asdds13ffff5f\")"
   ]
  },
  {
   "cell_type": "markdown",
   "metadata": {},
   "source": [
    "# problem 4"
   ]
  },
  {
   "cell_type": "code",
   "execution_count": 33,
   "metadata": {},
   "outputs": [
    {
     "name": "stdout",
     "output_type": "stream",
     "text": [
      "Hayk Welcome to our company!\n"
     ]
    }
   ],
   "source": [
    "def greeting(name, greeting=\"Welcome to our company!\"):\n",
    "    print(name, greeting)\n",
    "    \n",
    "greeting(\"Hayk\")"
   ]
  },
  {
   "cell_type": "markdown",
   "metadata": {},
   "source": [
    "# problem 5"
   ]
  },
  {
   "cell_type": "code",
   "execution_count": 39,
   "metadata": {},
   "outputs": [
    {
     "name": "stdout",
     "output_type": "stream",
     "text": [
      "No grades available for  12\n"
     ]
    }
   ],
   "source": [
    "def func1(name, *args):\n",
    "    if(len(args)>0 and isinstance(name,str)):\n",
    "        y = sum(args)/len(args)\n",
    "        print(name, \" , your average garde is: %s\" %y) \n",
    "    else:\n",
    "        print(\"No grades available for \", name )\n",
    "        \n",
    "func1(\"Hayk\",2,3,5,4,1)        "
   ]
  },
  {
   "cell_type": "markdown",
   "metadata": {},
   "source": [
    "# problem 6"
   ]
  },
  {
   "cell_type": "code",
   "execution_count": 47,
   "metadata": {},
   "outputs": [
    {
     "name": "stdout",
     "output_type": "stream",
     "text": [
      "Argument1 name: 1\n",
      "Argument2 name: 2\n",
      "Argument3 name: 3\n",
      "Argument4 name: a\n"
     ]
    }
   ],
   "source": [
    "def admin_func(user, *args):\n",
    "    if user==\"admin\":\n",
    "        for i in range(len(args)):\n",
    "            print(\"Argument%s name: %s\" %(i+1,args[i]))\n",
    "    else:\n",
    "        print(\"Access denied to the user %s\" % user)\n",
    "            \n",
    "admin_func(\"admin\",1,2,3,\"a\")"
   ]
  },
  {
   "cell_type": "markdown",
   "metadata": {},
   "source": [
    "# problem 6 another aproach"
   ]
  },
  {
   "cell_type": "code",
   "execution_count": 49,
   "metadata": {},
   "outputs": [
    {
     "name": "stdout",
     "output_type": "stream",
     "text": [
      "name1 1\n",
      "name2 2\n",
      "name3 3\n"
     ]
    }
   ],
   "source": [
    "def admin_func(user, **kwargs):\n",
    "    if user==\"admin\":\n",
    "        for x,y in kwargs.items():\n",
    "            print(x,y)\n",
    "    else:\n",
    "        print(\"Access denied to the user %s\" % user)\n",
    "        \n",
    "admin_func(\"admin\", name1=1, name2=2, name3=3)"
   ]
  },
  {
   "cell_type": "markdown",
   "metadata": {},
   "source": [
    "# problem 8"
   ]
  },
  {
   "cell_type": "code",
   "execution_count": 65,
   "metadata": {},
   "outputs": [
    {
     "name": "stdout",
     "output_type": "stream",
     "text": [
      "['Anna', 'Edgar']\n",
      "['Anna', 'Edgar', 'A', 'Hayk']\n"
     ]
    }
   ],
   "source": [
    "list1 = ['Anna', 'Edgar']\n",
    "\n",
    "def decorator(fn):\n",
    "    def wrapper(*args,**kwargs):\n",
    "        print(list1)\n",
    "        print(fn(*args, **kwargs))\n",
    "    return wrapper\n",
    "\n",
    "@decorator\n",
    "def add_values(list2):\n",
    "    return list1+[x for x in list2 if x not in list1]\n",
    "  \n",
    "    \n",
    "add_values([\"A\",\"Hayk\",'Edgar'])"
   ]
  },
  {
   "cell_type": "markdown",
   "metadata": {},
   "source": [
    "# problem 9"
   ]
  },
  {
   "cell_type": "code",
   "execution_count": 75,
   "metadata": {},
   "outputs": [
    {
     "name": "stdout",
     "output_type": "stream",
     "text": [
      "Hi everyone!!! Welcome to the party.\n"
     ]
    }
   ],
   "source": [
    "def decorator1(fn):\n",
    "    def wrapper(*args,**kwargs):\n",
    "        result = fn(*args,**kwargs).lower().capitalize()\n",
    "        return result\n",
    "    return wrapper\n",
    "\n",
    "def decorator2(fn):\n",
    "    def wrapper(*args,**kwargs):\n",
    "        result = fn(*args,**kwargs)+\"!!! Welcome to the party.\"\n",
    "        return result\n",
    "    return wrapper\n",
    "\n",
    "@decorator2\n",
    "@decorator1\n",
    "def greeting():\n",
    "    return \"HI EVERYONE\"\n",
    "\n",
    "print(greeting())"
   ]
  },
  {
   "cell_type": "markdown",
   "metadata": {},
   "source": [
    "# problem 10"
   ]
  },
  {
   "cell_type": "code",
   "execution_count": 100,
   "metadata": {},
   "outputs": [],
   "source": [
    "def list_func(list1):\n",
    "    for x in list1:\n",
    "        yield (x)\n",
    "        \n",
    "res = list_func([1,2,3,4])"
   ]
  },
  {
   "cell_type": "code",
   "execution_count": 103,
   "metadata": {},
   "outputs": [
    {
     "data": {
      "text/plain": [
       "3"
      ]
     },
     "execution_count": 103,
     "metadata": {},
     "output_type": "execute_result"
    }
   ],
   "source": [
    "next(res)"
   ]
  },
  {
   "cell_type": "markdown",
   "metadata": {},
   "source": [
    "# problem 11"
   ]
  },
  {
   "cell_type": "code",
   "execution_count": 121,
   "metadata": {},
   "outputs": [],
   "source": [
    "def iter_num(n):\n",
    "    for i in range(1,n):\n",
    "        yield i\n",
    "        \n",
    "res2 = iter_num(10)"
   ]
  },
  {
   "cell_type": "code",
   "execution_count": 124,
   "metadata": {},
   "outputs": [
    {
     "data": {
      "text/plain": [
       "3"
      ]
     },
     "execution_count": 124,
     "metadata": {},
     "output_type": "execute_result"
    }
   ],
   "source": [
    "next(res2)"
   ]
  },
  {
   "cell_type": "markdown",
   "metadata": {},
   "source": [
    "# problem 12"
   ]
  },
  {
   "cell_type": "code",
   "execution_count": 137,
   "metadata": {},
   "outputs": [],
   "source": [
    "def power(max):\n",
    "    for i in range(max+1):\n",
    "        yield 2**i\n",
    "        \n",
    "res5 = power(3)"
   ]
  },
  {
   "cell_type": "code",
   "execution_count": 141,
   "metadata": {},
   "outputs": [
    {
     "data": {
      "text/plain": [
       "8"
      ]
     },
     "execution_count": 141,
     "metadata": {},
     "output_type": "execute_result"
    }
   ],
   "source": [
    "next(res5)"
   ]
  }
 ],
 "metadata": {
  "kernelspec": {
   "display_name": "Python 3",
   "language": "python",
   "name": "python3"
  },
  "language_info": {
   "codemirror_mode": {
    "name": "ipython",
    "version": 3
   },
   "file_extension": ".py",
   "mimetype": "text/x-python",
   "name": "python",
   "nbconvert_exporter": "python",
   "pygments_lexer": "ipython3",
   "version": "3.7.4"
  }
 },
 "nbformat": 4,
 "nbformat_minor": 2
}
