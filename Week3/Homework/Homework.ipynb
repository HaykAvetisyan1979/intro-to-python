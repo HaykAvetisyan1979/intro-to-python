{
 "cells": [
  {
   "cell_type": "markdown",
   "metadata": {},
   "source": [
    "# Lists"
   ]
  },
  {
   "cell_type": "code",
   "execution_count": 8,
   "metadata": {},
   "outputs": [
    {
     "name": "stdout",
     "output_type": "stream",
     "text": [
      "7 -2\n",
      "a_sorted= [8, 7, 5, 4, 1, 0, -1, -2]\n",
      "a= [1, 4, 5, 7, 8, -2, 0, -1]\n"
     ]
    }
   ],
   "source": [
    "a = [1, 4, 5, 7, 8, -2, 0, -1]\n",
    "print(a[3], a[5])\n",
    "a_sorted = sorted(a, reverse=True)\n",
    "print(\"a_sorted=\", a_sorted)\n",
    "print(\"a=\", a)"
   ]
  },
  {
   "cell_type": "code",
   "execution_count": 3,
   "metadata": {},
   "outputs": [
    {
     "name": "stdout",
     "output_type": "stream",
     "text": [
      "[7, 5, 4] [5, 4, 1, 0, -1]\n"
     ]
    }
   ],
   "source": [
    "print(a_sorted[1:4],a_sorted[2:7])"
   ]
  },
  {
   "cell_type": "code",
   "execution_count": 4,
   "metadata": {},
   "outputs": [
    {
     "name": "stdout",
     "output_type": "stream",
     "text": [
      "[8, 7, 5, 4, 1, 0, -1, -2]\n",
      "[8, 7, 1, 0, -1, -2]\n"
     ]
    }
   ],
   "source": [
    "print(a_sorted)\n",
    "del a_sorted[3]\n",
    "del a_sorted[2]\n",
    "print(a_sorted)"
   ]
  },
  {
   "cell_type": "code",
   "execution_count": 13,
   "metadata": {
    "scrolled": true
   },
   "outputs": [
    {
     "name": "stdout",
     "output_type": "stream",
     "text": [
      "b= ['grapes', 'Potatoes', 'tomatoes', 'Orange', 'Lemon', 'Broccoli', 'Carrot', 'Sausages'] \n",
      "\n",
      "b= ['grapes', 'Potatoes', 'tomatoes', 'Orange', 'Lemon', 'Broccoli', 'Carrot', 'Sausages'] \n",
      "\n",
      "b_sorted= ['Broccoli', 'Carrot', 'Lemon', 'Orange', 'Potatoes', 'Sausages', 'grapes', 'tomatoes'] \n",
      "\n",
      "c= [4, 5, 7, 'Lemon', 'Broccoli', 'Carrot']\n"
     ]
    }
   ],
   "source": [
    "b = [\"grapes\",\"Potatoes\",\"tomatoes\",\"Orange\",\"Lemon\",\"Broccoli\",\"Carrot\",\"Sausages\"]\n",
    "print(\"b=\", b, \"\\n\")\n",
    "b_sorted = sorted(b)\n",
    "print(\"b=\", b, \"\\n\")\n",
    "print(\"b_sorted=\", b_sorted, \"\\n\")\n",
    "\n",
    "a=[1, 4, 5, 7, 8, -2, 0, -1]\n",
    "\n",
    "#c=list()\n",
    "\n",
    "c = a[1:4] + b[4:7]\n",
    "\n",
    "print(\"c=\", c)\n"
   ]
  },
  {
   "cell_type": "markdown",
   "metadata": {},
   "source": [
    "# Sets:"
   ]
  },
  {
   "cell_type": "code",
   "execution_count": 14,
   "metadata": {},
   "outputs": [
    {
     "name": "stdout",
     "output_type": "stream",
     "text": [
      "{False, True, 'Jelly', 'Oreo', 8, 'Milk', 10, 'Cookies', 14, 'Kit-Kat', 'Chocolate', -5, -3}\n",
      "new_set:  {False, True, 'Jelly', 'Oreo', 8, 'Milk', 10, 'Cookies', 14, 'Kit-Kat', 'Chocolate', -5, -3}\n",
      "The set new_set contains the value \"Chocolate\"\n",
      "{False, True, 'Jelly', 8, 'Milk', 10, 'Cookies', 14, 'Kit-Kat', 'Chocolate', -5, -3}\n"
     ]
    }
   ],
   "source": [
    "a1 = [\"Cookies\", \"Chocolate\", 8, True, -3, -5, \"Chocolate\", 8, False,8]\n",
    "b1 = [8, True, 10, 14, \"Chocolate\", \"Milk\", \"Jelly\", True, False, True]\n",
    "set_a = set(a1)\n",
    "set_b = set(b1)\n",
    "union_ab = set_a.union(set_b)\n",
    "intersection_ab = set_a.intersection(set_b)\n",
    "union_ab.update({\"Kit-Kat\",\"Oreo\"})\n",
    "print(union_ab)\n",
    "\n",
    "new_set = union_ab | intersection_ab\n",
    "print(\"new_set: \", new_set)\n",
    "\n",
    "if \"Chocolate\" in new_set:\n",
    "    print('The set new_set contains the value \"Chocolate\"')\n",
    "else:\n",
    "    print('The set new_set does not contain the value \"Chocolate\"')\n",
    "\n",
    "new_set.discard(\"Oreo\")\n",
    "print(new_set)"
   ]
  },
  {
   "cell_type": "markdown",
   "metadata": {},
   "source": [
    "# Tuples"
   ]
  },
  {
   "cell_type": "code",
   "execution_count": 30,
   "metadata": {},
   "outputs": [
    {
     "name": "stdout",
     "output_type": "stream",
     "text": [
      "t1= (1, True, 'a', -2, 'Anna')\n",
      "t1= (1, 'a', -2, 'Anna')  type of t1 is:  <class 'tuple'>\n"
     ]
    }
   ],
   "source": [
    "t1 = (1, True, \"a\", -2, \"Anna\")\n",
    "print(\"t1=\", t1)\n",
    "t1 = list(t1)\n",
    "del t1[1]\n",
    "t1 = tuple(t1)\n",
    "print(\"t1=\", t1, \" type of t1 is: \", type(t1))"
   ]
  },
  {
   "cell_type": "code",
   "execution_count": 33,
   "metadata": {},
   "outputs": [
    {
     "name": "stdout",
     "output_type": "stream",
     "text": [
      "(1, 'a', 1, 2, 3)\n",
      "1\n"
     ]
    }
   ],
   "source": [
    "t2 = (1, 2, 3, 4, 5)\n",
    "t3 = t1[0:2] + t2[:3]\n",
    "print(t3)\n",
    "print(t3[2])"
   ]
  },
  {
   "cell_type": "code",
   "execution_count": 34,
   "metadata": {},
   "outputs": [
    {
     "name": "stdout",
     "output_type": "stream",
     "text": [
      "3\n"
     ]
    }
   ],
   "source": [
    "t4 = [(1,3,5),(8,9),(\"Anna\",\"Bob\",\"Alice\")]\n",
    "print(t4[0][1])"
   ]
  },
  {
   "cell_type": "markdown",
   "metadata": {},
   "source": [
    "# Dictionaries"
   ]
  },
  {
   "cell_type": "code",
   "execution_count": 39,
   "metadata": {},
   "outputs": [
    {
     "name": "stdout",
     "output_type": "stream",
     "text": [
      "market= {'dairy': ['yogurt', 'cheese'], 'fruits': ['banana', 'apple', 'orange', 'lemon', 'apple', 'banana', 'banana'], 'candies': ['mars', 'kinder', 'twix']} \n",
      "\n",
      "market= {'dairy': ['yogurt', 'cheese'], 'fruits': ['apple', 'banana', 'lemon', 'orange'], 'candies': ['mars', 'kinder', 'twix']}\n"
     ]
    }
   ],
   "source": [
    "market = {\"dairy\":[\"yogurt\", \"cheese\"], \"fruits\":['banana','apple','orange','lemon','apple','banana','banana']}\n",
    "market[\"candies\"] = ['mars','kinder','twix']\n",
    "print(\"market=\", market, \"\\n\")\n",
    "\n",
    "market[\"fruits\"] = sorted(list(set(market[\"fruits\"])))\n",
    "print(\"market=\", market)"
   ]
  }
 ],
 "metadata": {
  "kernelspec": {
   "display_name": "Python 3",
   "language": "python",
   "name": "python3"
  },
  "language_info": {
   "codemirror_mode": {
    "name": "ipython",
    "version": 3
   },
   "file_extension": ".py",
   "mimetype": "text/x-python",
   "name": "python",
   "nbconvert_exporter": "python",
   "pygments_lexer": "ipython3",
   "version": "3.7.4"
  }
 },
 "nbformat": 4,
 "nbformat_minor": 2
}
