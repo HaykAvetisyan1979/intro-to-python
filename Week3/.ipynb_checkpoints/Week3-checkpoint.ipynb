{
 "cells": [
  {
   "cell_type": "markdown",
   "metadata": {},
   "source": [
    "# problem 5"
   ]
  },
  {
   "cell_type": "code",
   "execution_count": 13,
   "metadata": {},
   "outputs": [
    {
     "name": "stdout",
     "output_type": "stream",
     "text": [
      "[1, 2, 3, 4, 4, 'a']\n",
      "[2, 3, 4]\n"
     ]
    }
   ],
   "source": [
    "list5 = [1, 2, 3, 4, 4, \"a\"]\n",
    "print(list5)\n",
    "del list5[5]\n",
    "del list5[4]\n",
    "del list5[0]\n",
    "\n",
    "print(list5)\n"
   ]
  },
  {
   "cell_type": "markdown",
   "metadata": {},
   "source": [
    "# problem 6"
   ]
  },
  {
   "cell_type": "code",
   "execution_count": 17,
   "metadata": {},
   "outputs": [
    {
     "name": "stdout",
     "output_type": "stream",
     "text": [
      "Old list [1, 2, 3, 4, 4, 'a']\n",
      "New list [2, 3, 4]\n"
     ]
    }
   ],
   "source": [
    "list5 = [1, 2, 3, 4, 4, \"a\"]\n",
    "list6 = list5.copy()\n",
    "\n",
    "\n",
    "del list6[5]\n",
    "del list6[4]\n",
    "del list6[0]\n",
    "\n",
    "print(\"Old list\", list5)\n",
    "print(\"New list\", list6)"
   ]
  },
  {
   "cell_type": "markdown",
   "metadata": {},
   "source": [
    "# problem 7"
   ]
  },
  {
   "cell_type": "code",
   "execution_count": 18,
   "metadata": {},
   "outputs": [
    {
     "name": "stdout",
     "output_type": "stream",
     "text": [
      "[1, 2, 3, 'a']\n",
      "[1, 2, 3, [4, 5, 6, 'b']]\n"
     ]
    }
   ],
   "source": [
    "l1 = [1,2,3,\"a\"]\n",
    "l2 = [4,5,6,\"b\"]\n",
    "\n",
    "print(l1)\n",
    "l1[-1] = l2\n",
    "print(l1)\n"
   ]
  },
  {
   "cell_type": "markdown",
   "metadata": {},
   "source": [
    "# problem 11"
   ]
  },
  {
   "cell_type": "code",
   "execution_count": 19,
   "metadata": {},
   "outputs": [
    {
     "name": "stdout",
     "output_type": "stream",
     "text": [
      "union=  {1, 2, 3, 4}\n",
      "intersection=  {2, 3}\n"
     ]
    }
   ],
   "source": [
    "set1 = {1, 2, 3}\n",
    "set2 = {4, 2, 3}\n",
    "set3union = set1.union(set2)\n",
    "set4inter = set1.intersection(set2)\n",
    "print(\"union= \", set3union)\n",
    "print(\"intersection= \", set4inter)"
   ]
  },
  {
   "cell_type": "markdown",
   "metadata": {},
   "source": [
    "# problem 13"
   ]
  },
  {
   "cell_type": "code",
   "execution_count": 25,
   "metadata": {},
   "outputs": [
    {
     "name": "stdout",
     "output_type": "stream",
     "text": [
      "5 7\n"
     ]
    }
   ],
   "source": [
    "tup = (1,2,3,4,5,6,7,8,9,10)\n",
    "print(tup[4], tup[-4])"
   ]
  },
  {
   "cell_type": "markdown",
   "metadata": {},
   "source": [
    "# problem 14"
   ]
  },
  {
   "cell_type": "code",
   "execution_count": 27,
   "metadata": {},
   "outputs": [
    {
     "name": "stdout",
     "output_type": "stream",
     "text": [
      "Before (1, 2, 3, 4, 5, 6, 7, 8, 9, 10)\n",
      "After (1, 2, 3, 4, 'hello', 6, 7, 8, 9, 10)\n"
     ]
    }
   ],
   "source": [
    "t1 = (1,2,3,4,5,6,7,8,9,10)\n",
    "lst = list(t1)\n",
    "lst[4] = \"hello\"\n",
    "new_tup = tuple(lst)\n",
    "print(\"Before\", t1)\n",
    "print(\"After\", new_tup)"
   ]
  },
  {
   "cell_type": "markdown",
   "metadata": {},
   "source": [
    "# problem 16"
   ]
  },
  {
   "cell_type": "code",
   "execution_count": 32,
   "metadata": {},
   "outputs": [
    {
     "name": "stdout",
     "output_type": "stream",
     "text": [
      "{1: 'a', 2: 'b', 3: 'c'}\n"
     ]
    }
   ],
   "source": [
    "l1 = [(1, \"a\"), (2, \"b\"), (3, \"c\")]\n",
    "\n",
    "d1={}\n",
    "for i in range(len(l1)):\n",
    "    d1[l1[i][0]] = l1[i][1]\n",
    "    \n",
    "print(d1)"
   ]
  }
 ],
 "metadata": {
  "kernelspec": {
   "display_name": "Python 3",
   "language": "python",
   "name": "python3"
  },
  "language_info": {
   "codemirror_mode": {
    "name": "ipython",
    "version": 3
   },
   "file_extension": ".py",
   "mimetype": "text/x-python",
   "name": "python",
   "nbconvert_exporter": "python",
   "pygments_lexer": "ipython3",
   "version": "3.7.4"
  }
 },
 "nbformat": 4,
 "nbformat_minor": 2
}
